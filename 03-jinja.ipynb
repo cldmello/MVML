{
 "cells": [
  {
   "cell_type": "code",
   "execution_count": 1,
   "metadata": {},
   "outputs": [],
   "source": [
    "from IPython.core.display import HTML"
   ]
  },
  {
   "cell_type": "code",
   "execution_count": 2,
   "metadata": {},
   "outputs": [
    {
     "data": {
      "text/plain": [
       "'/Users/max/Courses/MVML'"
      ]
     },
     "execution_count": 2,
     "metadata": {},
     "output_type": "execute_result"
    }
   ],
   "source": [
    "import os; os.getcwd()"
   ]
  },
  {
   "cell_type": "code",
   "execution_count": 3,
   "metadata": {},
   "outputs": [],
   "source": [
    "from pathlib import Path\n",
    "\n",
    "Path(\"jinja\").mkdir(parents=True, exist_ok=True)"
   ]
  },
  {
   "cell_type": "markdown",
   "metadata": {},
   "source": [
    "## f-strings"
   ]
  },
  {
   "cell_type": "code",
   "execution_count": 5,
   "metadata": {},
   "outputs": [
    {
     "data": {
      "text/plain": [
       "'Hi, my name is Joan!'"
      ]
     },
     "execution_count": 5,
     "metadata": {},
     "output_type": "execute_result"
    }
   ],
   "source": [
    "name = 'Joan'\n",
    "\n",
    "f'Hi, my name is {name}!'"
   ]
  },
  {
   "cell_type": "markdown",
   "metadata": {},
   "source": [
    "## Jinja2\n",
    "\n",
    "Basically f-strings... but for literally everything"
   ]
  },
  {
   "cell_type": "code",
   "execution_count": 7,
   "metadata": {},
   "outputs": [
    {
     "data": {
      "text/plain": [
       "'Hi, my name is Joan'"
      ]
     },
     "execution_count": 7,
     "metadata": {},
     "output_type": "execute_result"
    }
   ],
   "source": [
    "from jinja2 import Template\n",
    "t = Template(\"Hi, my name is {{name}}\")\n",
    "t.render(name='Joan')"
   ]
  },
  {
   "cell_type": "markdown",
   "metadata": {},
   "source": [
    "## Working with Files"
   ]
  },
  {
   "cell_type": "code",
   "execution_count": 8,
   "metadata": {},
   "outputs": [],
   "source": [
    "from jinja2 import Environment, FileSystemLoader"
   ]
  },
  {
   "cell_type": "code",
   "execution_count": 9,
   "metadata": {},
   "outputs": [],
   "source": [
    "env = Environment(loader=FileSystemLoader('jinja'))"
   ]
  },
  {
   "cell_type": "markdown",
   "metadata": {},
   "source": [
    "#### One variable"
   ]
  },
  {
   "cell_type": "code",
   "execution_count": 10,
   "metadata": {},
   "outputs": [
    {
     "name": "stdout",
     "output_type": "stream",
     "text": [
      "Writing jinja/hello.txt\n"
     ]
    }
   ],
   "source": [
    "%%writefile jinja/hello.txt\n",
    "Hello, {{ course }}!"
   ]
  },
  {
   "cell_type": "code",
   "execution_count": 11,
   "metadata": {},
   "outputs": [],
   "source": [
    "template = env.get_template('hello.txt')"
   ]
  },
  {
   "cell_type": "code",
   "execution_count": 14,
   "metadata": {},
   "outputs": [
    {
     "name": "stdout",
     "output_type": "stream",
     "text": [
      "Hello, MVML!\n"
     ]
    }
   ],
   "source": [
    "output = template.render(course='MVML')\n",
    "\n",
    "print(output)"
   ]
  },
  {
   "cell_type": "markdown",
   "metadata": {},
   "source": [
    "#### Multiple variables"
   ]
  },
  {
   "cell_type": "code",
   "execution_count": 15,
   "metadata": {},
   "outputs": [
    {
     "name": "stdout",
     "output_type": "stream",
     "text": [
      "Writing jinja/hello.sql\n"
     ]
    }
   ],
   "source": [
    "%%writefile jinja/hello.sql\n",
    "SELECT\n",
    "{{ columns }}\n",
    "FROM {{ table }}\n",
    "WHERE {{ condition }}"
   ]
  },
  {
   "cell_type": "code",
   "execution_count": 16,
   "metadata": {},
   "outputs": [
    {
     "name": "stdout",
     "output_type": "stream",
     "text": [
      "SELECT\n",
      "name,\n",
      "calories,\n",
      "ingredients\n",
      "FROM food\n",
      "WHERE name == \"gazpacho\"\n"
     ]
    }
   ],
   "source": [
    "template = env.get_template('hello.sql')\n",
    "\n",
    "output = template.render(\n",
    "    columns='name,\\ncalories,\\ningredients',\n",
    "    table='food',\n",
    "    condition='name == \"gazpacho\"')\n",
    "\n",
    "print(output)"
   ]
  },
  {
   "cell_type": "markdown",
   "metadata": {},
   "source": [
    "#### Dictionary variables"
   ]
  },
  {
   "cell_type": "code",
   "execution_count": 17,
   "metadata": {},
   "outputs": [
    {
     "name": "stdout",
     "output_type": "stream",
     "text": [
      "Writing jinja/hello.md\n"
     ]
    }
   ],
   "source": [
    "%%writefile jinja/hello.md\n",
    "# {{ post.title }}\n",
    "\n",
    "{{ post.content }}\n",
    "\n",
    "[link]({{ post.link }})"
   ]
  },
  {
   "cell_type": "code",
   "execution_count": 18,
   "metadata": {},
   "outputs": [
    {
     "name": "stdout",
     "output_type": "stream",
     "text": [
      "# MVML\n",
      "\n",
      "I hope I'm not going too fast!\n",
      "\n",
      "[link](https://github.com/maxhumber/MVML)\n"
     ]
    }
   ],
   "source": [
    "template = env.get_template('hello.md')\n",
    "\n",
    "blog = {\n",
    "    'title': 'MVML', \n",
    "    'content': \"I hope I'm not going too fast!\", \n",
    "    'link': 'https://github.com/maxhumber/MVML'\n",
    "}\n",
    "\n",
    "output = template.render(post=blog)\n",
    "\n",
    "print(output)"
   ]
  },
  {
   "cell_type": "markdown",
   "metadata": {},
   "source": [
    "#### Conditionals"
   ]
  },
  {
   "cell_type": "code",
   "execution_count": 20,
   "metadata": {},
   "outputs": [
    {
     "name": "stdout",
     "output_type": "stream",
     "text": [
      "Overwriting jinja/weather.txt\n"
     ]
    }
   ],
   "source": [
    "%%writefile jinja/weather.txt\n",
    "{% if snow %}\n",
    "Bring out your parka\n",
    "{% else %}\n",
    "Sun's out, guns out 💪\n",
    "{% endif %}"
   ]
  },
  {
   "cell_type": "code",
   "execution_count": 22,
   "metadata": {},
   "outputs": [
    {
     "name": "stdout",
     "output_type": "stream",
     "text": [
      "\n",
      "Bring out your parka\n",
      "\n"
     ]
    }
   ],
   "source": [
    "template = env.get_template('weather.txt')\n",
    "output = template.render(snow=True)\n",
    "print(output)"
   ]
  },
  {
   "cell_type": "markdown",
   "metadata": {},
   "source": [
    "#### Loops"
   ]
  },
  {
   "cell_type": "code",
   "execution_count": 23,
   "metadata": {},
   "outputs": [
    {
     "name": "stdout",
     "output_type": "stream",
     "text": [
      "Writing jinja/github.txt\n"
     ]
    }
   ],
   "source": [
    "%%writefile jinja/github.txt\n",
    "{% for package in packages %}\n",
    "- {{ package }}\n",
    "{% endfor %}"
   ]
  },
  {
   "cell_type": "code",
   "execution_count": 24,
   "metadata": {},
   "outputs": [
    {
     "name": "stdout",
     "output_type": "stream",
     "text": [
      "\n",
      "- gif\n",
      "\n",
      "- gazpacho\n",
      "\n",
      "- pandas\n",
      "\n",
      "- tensorflow\n",
      "\n",
      "- tqdm\n",
      "\n"
     ]
    }
   ],
   "source": [
    "template = env.get_template('github.txt')\n",
    "\n",
    "output = template.render(packages=['gif', 'gazpacho', 'pandas', 'tensorflow', 'tqdm'])\n",
    "\n",
    "print(output)"
   ]
  },
  {
   "cell_type": "markdown",
   "metadata": {},
   "source": [
    "#### Jinja and HTML"
   ]
  },
  {
   "cell_type": "code",
   "execution_count": 25,
   "metadata": {},
   "outputs": [
    {
     "name": "stdout",
     "output_type": "stream",
     "text": [
      "Writing jinja/trash.html\n"
     ]
    }
   ],
   "source": [
    "%%writefile jinja/trash.html\n",
    "<!DOCTYPE html>\n",
    "<html lang=\"en\">\n",
    "  <head>\n",
    "    <meta charset=\"utf-8\">\n",
    "    <title>This is so bad</title>\n",
    "  </head>\n",
    "  <body>\n",
    "    <h1>This is so bad</h1>\n",
    "    <p>But it is real, functional <b>HTML</b></p>\n",
    "    <img src='https://media.giphy.com/media/uCcvPJ1EiA3Sw/giphy.gif' />\n",
    "  </body>\n",
    "</html>"
   ]
  },
  {
   "cell_type": "code",
   "execution_count": 26,
   "metadata": {},
   "outputs": [
    {
     "data": {
      "text/html": [
       "<!DOCTYPE html>\n",
       "<html lang=\"en\">\n",
       "  <head>\n",
       "    <meta charset=\"utf-8\">\n",
       "    <title>This is so bad</title>\n",
       "  </head>\n",
       "  <body>\n",
       "    <h1>This is so bad</h1>\n",
       "    <p>But it is real, functional <b>HTML</b></p>\n",
       "    <img src='https://media.giphy.com/media/uCcvPJ1EiA3Sw/giphy.gif' />\n",
       "  </body>\n",
       "</html>"
      ],
      "text/plain": [
       "<IPython.core.display.HTML object>"
      ]
     },
     "execution_count": 26,
     "metadata": {},
     "output_type": "execute_result"
    }
   ],
   "source": [
    "template = env.get_template('trash.html')\n",
    "\n",
    "output = template.render()\n",
    "\n",
    "HTML(output)"
   ]
  },
  {
   "cell_type": "code",
   "execution_count": 27,
   "metadata": {},
   "outputs": [
    {
     "name": "stdout",
     "output_type": "stream",
     "text": [
      "Writing jinja/trashroll.html\n"
     ]
    }
   ],
   "source": [
    "%%writefile jinja/trashroll.html\n",
    "<!DOCTYPE html>\n",
    "<html lang=\"en\">\n",
    "  <head>\n",
    "    <meta charset=\"utf-8\">\n",
    "    <title>{{ website.title }}</title>\n",
    "  </head>\n",
    "  <body>\n",
    "    <h1>{{ website.title }}</h1>\n",
    "    {{ website.content }}\n",
    "    <img src={{ website.image }} />\n",
    "  </body>\n",
    "</html>"
   ]
  },
  {
   "cell_type": "code",
   "execution_count": 28,
   "metadata": {},
   "outputs": [
    {
     "data": {
      "text/html": [
       "<!DOCTYPE html>\n",
       "<html lang=\"en\">\n",
       "  <head>\n",
       "    <meta charset=\"utf-8\">\n",
       "    <title>We're no strangers to HTML</title>\n",
       "  </head>\n",
       "  <body>\n",
       "    <h1>We're no strangers to HTML</h1>\n",
       "    <p>You know the <i>tags</i> and so do I</p>\n",
       "    <img src=https://media.giphy.com/media/olAik8MhYOB9K/giphy.gif />\n",
       "  </body>\n",
       "</html>"
      ],
      "text/plain": [
       "<IPython.core.display.HTML object>"
      ]
     },
     "execution_count": 28,
     "metadata": {},
     "output_type": "execute_result"
    }
   ],
   "source": [
    "template = env.get_template('trashroll.html')\n",
    "\n",
    "website = {\n",
    "    'title': 'We\\'re no strangers to HTML',\n",
    "    'content': '<p>You know the <i>tags</i> and so do I</p>',\n",
    "    'image': 'https://media.giphy.com/media/olAik8MhYOB9K/giphy.gif'\n",
    "}\n",
    "\n",
    "output = template.render(website=website)\n",
    "\n",
    "HTML(output)"
   ]
  },
  {
   "cell_type": "markdown",
   "metadata": {},
   "source": [
    "#### Inheritance "
   ]
  },
  {
   "cell_type": "code",
   "execution_count": 29,
   "metadata": {},
   "outputs": [
    {
     "name": "stdout",
     "output_type": "stream",
     "text": [
      "Writing jinja/base.html\n"
     ]
    }
   ],
   "source": [
    "%%writefile jinja/base.html\n",
    "<!DOCTYPE html>\n",
    "<html lang=\"en\">\n",
    "  <head>\n",
    "    <meta charset=\"utf-8\">\n",
    "    <title>{{ title }}</title>\n",
    "  </head>\n",
    "  <body>\n",
    "  <h1>{{ title }}<h1>\n",
    "  {% block content %}{% endblock %}\n",
    "  </body>\n",
    "</html>"
   ]
  },
  {
   "cell_type": "code",
   "execution_count": 30,
   "metadata": {},
   "outputs": [
    {
     "name": "stdout",
     "output_type": "stream",
     "text": [
      "Writing jinja/home.html\n"
     ]
    }
   ],
   "source": [
    "%%writefile jinja/home.html\n",
    "{% extends \"base.html\" %}\n",
    "{% block content %}\n",
    "<p>{{ body }}</p>\n",
    "{% endblock %}"
   ]
  },
  {
   "cell_type": "code",
   "execution_count": null,
   "metadata": {},
   "outputs": [],
   "source": [
    "template = env.get_template('home.html')\n",
    "output = template.render(title='MVML', body='I hope this extending business is making sense')\n",
    "print(output)"
   ]
  },
  {
   "cell_type": "markdown",
   "metadata": {},
   "source": [
    "## Cleanup"
   ]
  },
  {
   "cell_type": "code",
   "execution_count": null,
   "metadata": {},
   "outputs": [],
   "source": [
    "root = Path.cwd()"
   ]
  },
  {
   "cell_type": "code",
   "execution_count": null,
   "metadata": {},
   "outputs": [],
   "source": [
    "directory_path = root / 'jinja'\n",
    "\n",
    "for each_file_path in directory_path.glob('*'):\n",
    "    print(f'removing {each_file_path}')\n",
    "    each_file_path.unlink()\n",
    "    \n",
    "os.rmdir('jinja')"
   ]
  }
 ],
 "metadata": {
  "kernel_info": {
   "name": "python3"
  },
  "kernelspec": {
   "display_name": "Python 3",
   "language": "python",
   "name": "python3"
  },
  "language_info": {
   "codemirror_mode": {
    "name": "ipython",
    "version": 3
   },
   "file_extension": ".py",
   "mimetype": "text/x-python",
   "name": "python",
   "nbconvert_exporter": "python",
   "pygments_lexer": "ipython3",
   "version": "3.8.3"
  },
  "nteract": {
   "version": "0.15.0"
  }
 },
 "nbformat": 4,
 "nbformat_minor": 2
}
